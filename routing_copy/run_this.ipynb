{
 "cells": [
  {
   "cell_type": "code",
   "execution_count": 4,
   "id": "d81b21a9",
   "metadata": {
    "scrolled": true
   },
   "outputs": [
    {
     "name": "stdout",
     "output_type": "stream",
     "text": [
      "Requirement already satisfied: import_ipynb in c:\\users\\h3406\\anaconda3\\envs\\routing\\lib\\site-packages (0.1.4)\n",
      "Requirement already satisfied: IPython in c:\\users\\h3406\\anaconda3\\envs\\routing\\lib\\site-packages (from import_ipynb) (7.34.0)\n",
      "Requirement already satisfied: nbformat in c:\\users\\h3406\\anaconda3\\envs\\routing\\lib\\site-packages (from import_ipynb) (5.4.0)\n",
      "Requirement already satisfied: pickleshare in c:\\users\\h3406\\anaconda3\\envs\\routing\\lib\\site-packages (from IPython->import_ipynb) (0.7.5)\n",
      "Requirement already satisfied: backcall in c:\\users\\h3406\\anaconda3\\envs\\routing\\lib\\site-packages (from IPython->import_ipynb) (0.2.0)\n",
      "Requirement already satisfied: jedi>=0.16 in c:\\users\\h3406\\anaconda3\\envs\\routing\\lib\\site-packages (from IPython->import_ipynb) (0.18.1)\n",
      "Requirement already satisfied: colorama in c:\\users\\h3406\\anaconda3\\envs\\routing\\lib\\site-packages (from IPython->import_ipynb) (0.4.5)\n",
      "Requirement already satisfied: prompt-toolkit!=3.0.0,!=3.0.1,<3.1.0,>=2.0.0 in c:\\users\\h3406\\anaconda3\\envs\\routing\\lib\\site-packages (from IPython->import_ipynb) (3.0.30)\n",
      "Requirement already satisfied: traitlets>=4.2 in c:\\users\\h3406\\anaconda3\\envs\\routing\\lib\\site-packages (from IPython->import_ipynb) (5.3.0)\n",
      "Requirement already satisfied: setuptools>=18.5 in c:\\users\\h3406\\anaconda3\\envs\\routing\\lib\\site-packages (from IPython->import_ipynb) (61.2.0)\n",
      "Requirement already satisfied: decorator in c:\\users\\h3406\\anaconda3\\envs\\routing\\lib\\site-packages (from IPython->import_ipynb) (5.1.1)\n",
      "Requirement already satisfied: pygments in c:\\users\\h3406\\anaconda3\\envs\\routing\\lib\\site-packages (from IPython->import_ipynb) (2.12.0)\n",
      "Requirement already satisfied: matplotlib-inline in c:\\users\\h3406\\anaconda3\\envs\\routing\\lib\\site-packages (from IPython->import_ipynb) (0.1.3)\n",
      "Requirement already satisfied: fastjsonschema in c:\\users\\h3406\\anaconda3\\envs\\routing\\lib\\site-packages (from nbformat->import_ipynb) (2.16.1)\n",
      "Requirement already satisfied: jupyter-core in c:\\users\\h3406\\anaconda3\\envs\\routing\\lib\\site-packages (from nbformat->import_ipynb) (4.11.1)\n",
      "Requirement already satisfied: jsonschema>=2.6 in c:\\users\\h3406\\anaconda3\\envs\\routing\\lib\\site-packages (from nbformat->import_ipynb) (4.7.2)\n",
      "Requirement already satisfied: parso<0.9.0,>=0.8.0 in c:\\users\\h3406\\anaconda3\\envs\\routing\\lib\\site-packages (from jedi>=0.16->IPython->import_ipynb) (0.8.3)\n",
      "Requirement already satisfied: typing-extensions in c:\\users\\h3406\\anaconda3\\envs\\routing\\lib\\site-packages (from jsonschema>=2.6->nbformat->import_ipynb) (4.3.0)\n",
      "Requirement already satisfied: attrs>=17.4.0 in c:\\users\\h3406\\anaconda3\\envs\\routing\\lib\\site-packages (from jsonschema>=2.6->nbformat->import_ipynb) (21.4.0)\n",
      "Requirement already satisfied: pyrsistent!=0.17.0,!=0.17.1,!=0.17.2,>=0.14.0 in c:\\users\\h3406\\anaconda3\\envs\\routing\\lib\\site-packages (from jsonschema>=2.6->nbformat->import_ipynb) (0.18.1)\n",
      "Requirement already satisfied: importlib-resources>=1.4.0 in c:\\users\\h3406\\anaconda3\\envs\\routing\\lib\\site-packages (from jsonschema>=2.6->nbformat->import_ipynb) (5.8.0)\n",
      "Requirement already satisfied: importlib-metadata in c:\\users\\h3406\\anaconda3\\envs\\routing\\lib\\site-packages (from jsonschema>=2.6->nbformat->import_ipynb) (4.12.0)\n",
      "Requirement already satisfied: wcwidth in c:\\users\\h3406\\anaconda3\\envs\\routing\\lib\\site-packages (from prompt-toolkit!=3.0.0,!=3.0.1,<3.1.0,>=2.0.0->IPython->import_ipynb) (0.2.5)\n",
      "Requirement already satisfied: pywin32>=1.0 in c:\\users\\h3406\\anaconda3\\envs\\routing\\lib\\site-packages (from jupyter-core->nbformat->import_ipynb) (304)\n",
      "Requirement already satisfied: zipp>=3.1.0 in c:\\users\\h3406\\anaconda3\\envs\\routing\\lib\\site-packages (from importlib-resources>=1.4.0->jsonschema>=2.6->nbformat->import_ipynb) (3.8.1)\n",
      "Note: you may need to restart the kernel to use updated packages.\n"
     ]
    }
   ],
   "source": [
    "pip install import_ipynb"
   ]
  },
  {
   "cell_type": "code",
   "execution_count": 1,
   "id": "b83145a2",
   "metadata": {},
   "outputs": [
    {
     "name": "stdout",
     "output_type": "stream",
     "text": [
      "importing Jupyter notebook from maze_env.ipynb\n",
      "importing Jupyter notebook from RL_brain.ipynb\n"
     ]
    }
   ],
   "source": [
    "\"\"\"\n",
    "Reinforcement learning maze example.\n",
    "Red rectangle:          explorer.\n",
    "Black rectangles:       hells       [reward = -1].\n",
    "Yellow bin circle:      paradise    [reward = +1].\n",
    "All other states:       ground      [reward = 0].\n",
    "This script is the main part which controls the update method of this example.\n",
    "The RL is in RL_brain.py.\n",
    "View more on my tutorial page: https://morvanzhou.github.io/tutorials/\n",
    "\"\"\"\n",
    "import import_ipynb\n",
    "from maze_env import Maze\n",
    "from RL_brain import QLearningTable\n",
    "\n",
    "\n",
    "def update():\n",
    "    for episode in range(100):\n",
    "        # initial observation\n",
    "        observation = env.reset()\n",
    "\n",
    "        while True:\n",
    "            # fresh env\n",
    "            env.render()\n",
    "\n",
    "            # RL choose action based on observation\n",
    "            action = RL.choose_action(str(observation))\n",
    "\n",
    "            # RL take action and get next observation and reward\n",
    "            observation_, reward, done = env.step(action)\n",
    "\n",
    "            # RL learn from this transition\n",
    "            RL.learn(str(observation), action, reward, str(observation_))\n",
    "\n",
    "            # swap observation\n",
    "            observation = observation_\n",
    "\n",
    "            # break while loop when end of this episode\n",
    "            if done:\n",
    "                break\n",
    "\n",
    "    # end of game\n",
    "    print('game over')\n",
    "    env.destroy()\n",
    "\n",
    "if __name__ == \"__main__\":\n",
    "    env = Maze()\n",
    "    RL = QLearningTable(actions=list(range(env.n_actions)))\n",
    "\n",
    "    env.after(10000, update)\n",
    "    env.mainloop()"
   ]
  }
 ],
 "metadata": {
  "kernelspec": {
   "display_name": "Python 3",
   "language": "python",
   "name": "python3"
  },
  "language_info": {
   "codemirror_mode": {
    "name": "ipython",
    "version": 3
   },
   "file_extension": ".py",
   "mimetype": "text/x-python",
   "name": "python",
   "nbconvert_exporter": "python",
   "pygments_lexer": "ipython3",
   "version": "3.8.8"
  }
 },
 "nbformat": 4,
 "nbformat_minor": 5
}
