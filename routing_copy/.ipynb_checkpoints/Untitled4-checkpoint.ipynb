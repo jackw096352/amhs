{
 "cells": [
  {
   "cell_type": "code",
   "execution_count": 8,
   "id": "9cd05365",
   "metadata": {},
   "outputs": [
    {
     "name": "stdout",
     "output_type": "stream",
     "text": [
      "1\n",
      "stocker 0 request 0 generate at 0.00\n",
      "stocker 1 request 0 generate at 0.00\n",
      "stocker 1 request 1 generate at 3.00\n",
      "stocker 0 request 1 generate at 5.00\n",
      "stocker 1 request 2 generate at 6.00\n",
      "stocker 1 request 3 generate at 8.00\n",
      "stocker 0 request 2 generate at 10.00\n",
      "stocker 1 request 4 generate at 10.00\n",
      "stocker 0 request 3 generate at 12.00\n",
      "stocker 0 request 4 generate at 14.00\n",
      "stocker 1 request 5 generate at 15.00\n",
      "stocker 1 request 6 generate at 16.00\n",
      "stocker 0 request 5 generate at 17.00\n",
      "stocker 1 request 7 generate at 18.00\n",
      "1\n"
     ]
    }
   ],
   "source": [
    "import simpy\n",
    "import random\n",
    "\n",
    "#def request_arrive()\n",
    "    #依request屬性將其分配至對應的倉儲等候列(list or array)\n",
    "\n",
    "def define_request(stocker,sim,count):\n",
    "    #輸出請求資訊以及將請求打包成物件\n",
    "    print(\"stocker %d request %d generate at %.2f\" % (stocker, count,sim.now))\n",
    "    \n",
    "    #request_arrive()\n",
    "    #將請求新增至倉儲等候列中\n",
    "\n",
    "def generate_request(sim,stocker):\n",
    "    count=0\n",
    "    #模擬起始直接同時在所有倉儲生成傳送請求\n",
    "    #sim.process(define_request(sim,count))\n",
    "    define_request(stocker,sim,count)\n",
    "    count+=1\n",
    "    #之後所有倉儲依各自指數分配產生請求\n",
    "    while True:\n",
    "        yield sim.timeout(random.randint(1,5))\n",
    "        #sim.process(define_request(sim,count))\n",
    "        define_request(stocker,sim,count)\n",
    "        count+=1\n",
    "\n",
    "\n",
    "sim = simpy.Environment()\n",
    "for stocker in range(2):\n",
    "    sim.process(generate_request(sim,stocker))\n",
    "#sim.process(generate_request(sim))\n",
    "sim.run(until=20)\n",
    "#env.mainloop()"
   ]
  },
  {
   "cell_type": "code",
   "execution_count": null,
   "id": "2fc6fbc9",
   "metadata": {},
   "outputs": [],
   "source": []
  }
 ],
 "metadata": {
  "kernelspec": {
   "display_name": "Python 3",
   "language": "python",
   "name": "python3"
  },
  "language_info": {
   "codemirror_mode": {
    "name": "ipython",
    "version": 3
   },
   "file_extension": ".py",
   "mimetype": "text/x-python",
   "name": "python",
   "nbconvert_exporter": "python",
   "pygments_lexer": "ipython3",
   "version": "3.8.8"
  }
 },
 "nbformat": 4,
 "nbformat_minor": 5
}
